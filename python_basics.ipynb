{
  "nbformat": 4,
  "nbformat_minor": 0,
  "metadata": {
    "colab": {
      "provenance": []
    },
    "kernelspec": {
      "name": "python3",
      "display_name": "Python 3"
    },
    "language_info": {
      "name": "python"
    }
  },
  "cells": [
    {
      "cell_type": "markdown",
      "source": [
        "Python"
      ],
      "metadata": {
        "id": "kNqTqkuePZR0"
      }
    },
    {
      "cell_type": "markdown",
      "source": [
        "1.What is python,and why it is popular?\n",
        "   - Python is a high level,interpreted programming language known for its simple syntax,redability,versatility.It is popular because it is support multiple prgramming paradigms and has a large standard library.\n",
        "\n",
        "2.What is an interpreter in Python?\n",
        "  - An interpreter is a program that executes python code line by line, translating it into machine code at runtime.\n",
        "\n",
        "3.What are pre-defined keywords in python?\n",
        "  - Pre-defined keywords are reserved words in Python that have special meanings and cannot be used as identifiers.(e.g.. if,while).\n",
        "\n",
        "4.Can keywords be used as variables names?\n",
        "   - No keywords cannot be used as variable names because they are reserved for specific Python syntax and functionality.\n",
        "\n",
        "5.What is mutability in python?\n",
        "   - Mutability refers to whether an objects cotent can be changed after creation.Mutable objects can be modified.\n",
        "\n",
        "6.Why are lists mutable,but tuples are immutable?\n",
        "   - Lists are  designed to allow modification of their elements, while tuples are fixed in size and content to ensure data integrity.\n",
        "\n",
        "7.What is the difference between \"==\" and \"is\" operators in python?\n",
        "   - \"==\" checks if the values of two objects are equal, whereas \"is\" checks if they refer too same memory location.\n",
        "\n",
        "8.What are logical operators in Python?\n",
        "   - Logical operators (and,or.not) are used to combine conditional statements and control logical flow.\n",
        "\n",
        "9.What is type casting in python?\n",
        "   - Type casting is the process of convertinng one data type into another,such as from a string to an integer.\n",
        "\n",
        "10.What is the differnce between implicit and Explicit type casting?\n",
        "   - Implicit casting is done automatically by Python without data loss risk, while expilicit casting is manually done using functions like int() or float ().\n",
        "\n",
        "11.What is the purpose of conditional statements in Python?\n",
        "   - Conditional statements control program flow by executing specific code blocks only when certain conditions are met.\n",
        "\n",
        "12.How does the elif statement work?\n",
        "   - The elif statement checks an additional condition if the previous if  condition is false,allowing multiple condition checks in sequence.\n",
        "\n",
        "13.What is the difference between for and while loops?\n",
        "   - A for loops iterates over a sequence with a fixed numbers of iterations, while  a while loop runs as long as a condition remains true.\n",
        "\n",
        "14.Describe a scenario where a while loop is more suitable than a for loop?\n",
        "   - A while loop is better when the number of iterations is not known beforehand,such as reading user input until they enter \"exit\".\n",
        "\n",
        "\n",
        "\n",
        "\n",
        "\n",
        "    \n",
        "  \n"
      ],
      "metadata": {
        "id": "FBgTRebxPf4w"
      }
    },
    {
      "cell_type": "markdown",
      "source": [
        "1.Write a python program to print \"Hello World!\""
      ],
      "metadata": {
        "id": "MdykBYkReC7F"
      }
    },
    {
      "cell_type": "code",
      "source": [
        "print (\"Hello,World!\")\n"
      ],
      "metadata": {
        "id": "QkUgnA3CjdRT"
      },
      "execution_count": null,
      "outputs": []
    },
    {
      "cell_type": "markdown",
      "source": [
        "2.Write a python program that displays your name and age."
      ],
      "metadata": {
        "id": "SgRkhhuJeUk_"
      }
    },
    {
      "cell_type": "code",
      "source": [
        "name = \"Falak\"\n",
        "age = 20\n",
        "print (f\"My name is {name} and I am {age} years old.\")"
      ],
      "metadata": {
        "id": "d0A_zPzPjesK"
      },
      "execution_count": null,
      "outputs": []
    },
    {
      "cell_type": "markdown",
      "source": [
        "3.Write code to print all the pre defined keywords in Python using the keyword library."
      ],
      "metadata": {
        "id": "F0AyrYb4emvd"
      }
    },
    {
      "cell_type": "code",
      "source": [
        "import keyword\n",
        "print (keyword.kwlist)"
      ],
      "metadata": {
        "id": "lJvTpqMTjLVc"
      },
      "execution_count": null,
      "outputs": []
    },
    {
      "cell_type": "markdown",
      "source": [
        "4.Write a program that checks if a given word is a python keyword."
      ],
      "metadata": {
        "id": "d8LMEgGNe2B0"
      }
    },
    {
      "cell_type": "code",
      "source": [
        "import keyword\n",
        "\n",
        "word = input(\"Enter a keyword:\")\n",
        "if keyword.iskeyword(word):\n",
        "  print(f\"{word} is a Python keyword.\")\n",
        "else:\n",
        "    print(f\"{word} is not a Python keyword.\")"
      ],
      "metadata": {
        "id": "id0CEN9jpRSc"
      },
      "execution_count": null,
      "outputs": []
    },
    {
      "cell_type": "markdown",
      "source": [
        "5.Create a list and tuple in python,and demonstrate how attempting to change an element works differently for each."
      ],
      "metadata": {
        "id": "fDkWb2fSfM39"
      }
    },
    {
      "cell_type": "code",
      "source": [
        "my_list = [1,2,3]\n",
        "my_list[0] = 100\n",
        "print(\"Modified list:\",my_list)\n",
        "my_tuple = (1,2,3)\n",
        "my_tuple[0] = 100\n",
        "print(\"Modified tuple:\",my_tuple)"
      ],
      "metadata": {
        "id": "bt7DVfm1pC16"
      },
      "execution_count": null,
      "outputs": []
    },
    {
      "cell_type": "markdown",
      "source": [
        "6.Write a function to demonstrate the behavior of mutable and immutable arguments."
      ],
      "metadata": {
        "id": "nmMon0lNfzuk"
      }
    },
    {
      "cell_type": "code",
      "source": [
        "def modify_list(lst):\n",
        "  lst.append(100)\n",
        "def modify_string(s):\n",
        "  s += \" World\"\n",
        "my_list = [1,2,3]\n",
        "my_string = \"Hello\"\n",
        "modify_list(my_list)\n",
        "print(\"Modified list:\",my_list)\n",
        "modify_string(my_string)\n",
        "print(\"Modified string:\",my_string)\n"
      ],
      "metadata": {
        "id": "ogx1xoFfrVMJ"
      },
      "execution_count": null,
      "outputs": []
    },
    {
      "cell_type": "markdown",
      "source": [
        "7.Write a program that perfoem basic arithmetic operations on two user input numbers."
      ],
      "metadata": {
        "id": "cIiPbesrjv99"
      }
    },
    {
      "cell_type": "code",
      "source": [
        "num1 = float(input(\"Enter the first number:\"))\n",
        "num2 = float(input(\"Enter the second number:\"))\n",
        "print(\"Addition:\",num1 + num2)\n",
        "print(\"Subtraction:\",num1 - num2)\n",
        "print(\"Multiplication:\",num1 * num2)\n",
        "print(\"Division:\",num1 / num2 if num2 != 0 else \"Division by zero is not allowed\")"
      ],
      "metadata": {
        "id": "hZSOZ4Km16Ai"
      },
      "execution_count": null,
      "outputs": []
    },
    {
      "cell_type": "markdown",
      "source": [
        "8.Write a program to deonstrate the use of logical operators."
      ],
      "metadata": {
        "id": "KWGGI4iGkVkN"
      }
    },
    {
      "cell_type": "code",
      "source": [
        "x = True\n",
        "y = False\n",
        "print(\"x\"and\"y:\",x and y)\n",
        "print(\"x\"or\"y:\",x or y)\n",
        "print(\"not x:\",not x)"
      ],
      "metadata": {
        "id": "H6WnR48R66On"
      },
      "execution_count": null,
      "outputs": []
    },
    {
      "cell_type": "markdown",
      "source": [
        "9.Write a python program to convert user inout from string to integer,float,and boolean types."
      ],
      "metadata": {
        "id": "uZX3UgQ_lL6Q"
      }
    },
    {
      "cell_type": "code",
      "source": [
        "user_input = input(\"Enter a value: \")\n",
        "int_val = int(user_input)\n",
        "float_val = float(user_input)\n",
        "bool_val = bool(int_val)\n",
        "print(\" integer:\",int_val)\n",
        "print(\" float:\",float_val)\n",
        "print(\"boolean:\",bool_val)"
      ],
      "metadata": {
        "id": "gZCM2i-v8RG1"
      },
      "execution_count": null,
      "outputs": []
    },
    {
      "cell_type": "markdown",
      "source": [
        "10.Write a code to demonstrate type casting with list elements."
      ],
      "metadata": {
        "id": "ThTjC1f-mee1"
      }
    },
    {
      "cell_type": "code",
      "source": [
        "str_list = [\"1\",\"2\",\"3\"]\n",
        "int_list = list(map(int,str_list))\n",
        "print(\"Integer list:\",int_list)"
      ],
      "metadata": {
        "id": "ewWcjg_F9FNK"
      },
      "execution_count": null,
      "outputs": []
    },
    {
      "cell_type": "markdown",
      "source": [
        "11.Write a program that checks if a number is positive , negative, or zero."
      ],
      "metadata": {
        "id": "w8E3s5KBm1BK"
      }
    },
    {
      "cell_type": "code",
      "source": [
        "num = float(input(\"Enter a number:\"))\n",
        "if num > 0:\n",
        "  print(\"Positive number\")\n",
        "elif num < 0:\n",
        "  print(\"Negative number\")\n",
        "else:\n",
        "  print(\"Zero\")"
      ],
      "metadata": {
        "id": "ch-cJt2i_jrJ"
      },
      "execution_count": null,
      "outputs": []
    },
    {
      "cell_type": "markdown",
      "source": [
        "12.Write a loop to print numbers from 1 to 10."
      ],
      "metadata": {
        "id": "wmfwj8tdnDJY"
      }
    },
    {
      "cell_type": "code",
      "source": [
        "for i in range(1,11):\n",
        "  print(i)"
      ],
      "metadata": {
        "id": "o7c46ueP_7G4"
      },
      "execution_count": null,
      "outputs": []
    },
    {
      "cell_type": "markdown",
      "source": [
        "13.Write a python program to find the sum of all even numbers between 1 to 50."
      ],
      "metadata": {
        "id": "l_nx5jB7nNBQ"
      }
    },
    {
      "cell_type": "code",
      "source": [
        "total = 0\n",
        "for i in range(1,51):\n",
        "  if i % 2 == 0:\n",
        "    total += i\n",
        "    print(\"Sum of even numbers from 1 to 50:\", total)\n"
      ],
      "metadata": {
        "id": "JbREvxGHAGBB"
      },
      "execution_count": null,
      "outputs": []
    },
    {
      "cell_type": "markdown",
      "source": [
        "14.Write a program to reverse a string using a while loop."
      ],
      "metadata": {
        "id": "QKZH02dtnznM"
      }
    },
    {
      "cell_type": "code",
      "source": [
        "string = \"Hello\"\n",
        "reversed_string = \"\"\n",
        "i = len(string )-1\n",
        "\n",
        "while i >=0:\n",
        "  reversed_string += string[i]\n",
        "  i -= 1\n",
        "  print(\"Reversed string:\",reversed_string)"
      ],
      "metadata": {
        "id": "Ay6mN8efCtl3"
      },
      "execution_count": null,
      "outputs": []
    },
    {
      "cell_type": "markdown",
      "source": [
        "15.Write a python program to calculate the factorial of a number provided by the user using a while loop."
      ],
      "metadata": {
        "id": "2cQebe_9n-j9"
      }
    },
    {
      "cell_type": "code",
      "source": [
        "num = int (input (\"Enter a number to calculate its factorial:\"))\n",
        "factorial = 1\n",
        "i = 1\n",
        "while i <= num:\n",
        "  factorial *= i\n",
        "  i += 1\n",
        "  print(f\"Factorial of {num} is {factorial}\")\n"
      ],
      "metadata": {
        "id": "bRDjPPfqFS3T"
      },
      "execution_count": null,
      "outputs": []
    }
  ]
}